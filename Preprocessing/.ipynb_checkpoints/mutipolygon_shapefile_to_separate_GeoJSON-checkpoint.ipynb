{
 "cells": [
  {
   "cell_type": "markdown",
   "id": "b495a9fd-3911-485c-90e5-3fdb742f6572",
   "metadata": {},
   "source": [
    "### Split a multipolygon shapefile and store each polygon in a separate GeoJSON file"
   ]
  },
  {
   "cell_type": "code",
   "execution_count": 47,
   "id": "30065c50-c337-4a45-856b-2b00e0f867f8",
   "metadata": {},
   "outputs": [
    {
     "name": "stderr",
     "output_type": "stream",
     "text": [
      "/home/kyang33/.virtualenvs/planet_project/lib/python3.8/site-packages/geopandas/io/file.py:362: FutureWarning: pandas.Int64Index is deprecated and will be removed from pandas in a future version. Use pandas.Index with the appropriate dtype instead.\n",
      "  pd.Int64Index,\n",
      "/home/kyang33/.virtualenvs/planet_project/lib/python3.8/site-packages/geopandas/io/file.py:362: FutureWarning: pandas.Int64Index is deprecated and will be removed from pandas in a future version. Use pandas.Index with the appropriate dtype instead.\n",
      "  pd.Int64Index,\n",
      "/home/kyang33/.virtualenvs/planet_project/lib/python3.8/site-packages/geopandas/io/file.py:362: FutureWarning: pandas.Int64Index is deprecated and will be removed from pandas in a future version. Use pandas.Index with the appropriate dtype instead.\n",
      "  pd.Int64Index,\n",
      "/home/kyang33/.virtualenvs/planet_project/lib/python3.8/site-packages/geopandas/io/file.py:362: FutureWarning: pandas.Int64Index is deprecated and will be removed from pandas in a future version. Use pandas.Index with the appropriate dtype instead.\n",
      "  pd.Int64Index,\n",
      "/home/kyang33/.virtualenvs/planet_project/lib/python3.8/site-packages/geopandas/io/file.py:362: FutureWarning: pandas.Int64Index is deprecated and will be removed from pandas in a future version. Use pandas.Index with the appropriate dtype instead.\n",
      "  pd.Int64Index,\n",
      "/home/kyang33/.virtualenvs/planet_project/lib/python3.8/site-packages/geopandas/io/file.py:362: FutureWarning: pandas.Int64Index is deprecated and will be removed from pandas in a future version. Use pandas.Index with the appropriate dtype instead.\n",
      "  pd.Int64Index,\n",
      "/home/kyang33/.virtualenvs/planet_project/lib/python3.8/site-packages/geopandas/io/file.py:362: FutureWarning: pandas.Int64Index is deprecated and will be removed from pandas in a future version. Use pandas.Index with the appropriate dtype instead.\n",
      "  pd.Int64Index,\n",
      "/home/kyang33/.virtualenvs/planet_project/lib/python3.8/site-packages/geopandas/io/file.py:362: FutureWarning: pandas.Int64Index is deprecated and will be removed from pandas in a future version. Use pandas.Index with the appropriate dtype instead.\n",
      "  pd.Int64Index,\n",
      "/home/kyang33/.virtualenvs/planet_project/lib/python3.8/site-packages/geopandas/io/file.py:362: FutureWarning: pandas.Int64Index is deprecated and will be removed from pandas in a future version. Use pandas.Index with the appropriate dtype instead.\n",
      "  pd.Int64Index,\n",
      "/home/kyang33/.virtualenvs/planet_project/lib/python3.8/site-packages/geopandas/io/file.py:362: FutureWarning: pandas.Int64Index is deprecated and will be removed from pandas in a future version. Use pandas.Index with the appropriate dtype instead.\n",
      "  pd.Int64Index,\n",
      "/home/kyang33/.virtualenvs/planet_project/lib/python3.8/site-packages/geopandas/io/file.py:362: FutureWarning: pandas.Int64Index is deprecated and will be removed from pandas in a future version. Use pandas.Index with the appropriate dtype instead.\n",
      "  pd.Int64Index,\n",
      "/home/kyang33/.virtualenvs/planet_project/lib/python3.8/site-packages/geopandas/io/file.py:362: FutureWarning: pandas.Int64Index is deprecated and will be removed from pandas in a future version. Use pandas.Index with the appropriate dtype instead.\n",
      "  pd.Int64Index,\n",
      "/home/kyang33/.virtualenvs/planet_project/lib/python3.8/site-packages/geopandas/io/file.py:362: FutureWarning: pandas.Int64Index is deprecated and will be removed from pandas in a future version. Use pandas.Index with the appropriate dtype instead.\n",
      "  pd.Int64Index,\n",
      "/home/kyang33/.virtualenvs/planet_project/lib/python3.8/site-packages/geopandas/io/file.py:362: FutureWarning: pandas.Int64Index is deprecated and will be removed from pandas in a future version. Use pandas.Index with the appropriate dtype instead.\n",
      "  pd.Int64Index,\n",
      "/home/kyang33/.virtualenvs/planet_project/lib/python3.8/site-packages/geopandas/io/file.py:362: FutureWarning: pandas.Int64Index is deprecated and will be removed from pandas in a future version. Use pandas.Index with the appropriate dtype instead.\n",
      "  pd.Int64Index,\n",
      "/home/kyang33/.virtualenvs/planet_project/lib/python3.8/site-packages/geopandas/io/file.py:362: FutureWarning: pandas.Int64Index is deprecated and will be removed from pandas in a future version. Use pandas.Index with the appropriate dtype instead.\n",
      "  pd.Int64Index,\n",
      "/home/kyang33/.virtualenvs/planet_project/lib/python3.8/site-packages/geopandas/io/file.py:362: FutureWarning: pandas.Int64Index is deprecated and will be removed from pandas in a future version. Use pandas.Index with the appropriate dtype instead.\n",
      "  pd.Int64Index,\n",
      "/home/kyang33/.virtualenvs/planet_project/lib/python3.8/site-packages/geopandas/io/file.py:362: FutureWarning: pandas.Int64Index is deprecated and will be removed from pandas in a future version. Use pandas.Index with the appropriate dtype instead.\n",
      "  pd.Int64Index,\n",
      "/home/kyang33/.virtualenvs/planet_project/lib/python3.8/site-packages/geopandas/io/file.py:362: FutureWarning: pandas.Int64Index is deprecated and will be removed from pandas in a future version. Use pandas.Index with the appropriate dtype instead.\n",
      "  pd.Int64Index,\n",
      "/home/kyang33/.virtualenvs/planet_project/lib/python3.8/site-packages/geopandas/io/file.py:362: FutureWarning: pandas.Int64Index is deprecated and will be removed from pandas in a future version. Use pandas.Index with the appropriate dtype instead.\n",
      "  pd.Int64Index,\n",
      "/home/kyang33/.virtualenvs/planet_project/lib/python3.8/site-packages/geopandas/io/file.py:362: FutureWarning: pandas.Int64Index is deprecated and will be removed from pandas in a future version. Use pandas.Index with the appropriate dtype instead.\n",
      "  pd.Int64Index,\n",
      "/home/kyang33/.virtualenvs/planet_project/lib/python3.8/site-packages/geopandas/io/file.py:362: FutureWarning: pandas.Int64Index is deprecated and will be removed from pandas in a future version. Use pandas.Index with the appropriate dtype instead.\n",
      "  pd.Int64Index,\n",
      "/home/kyang33/.virtualenvs/planet_project/lib/python3.8/site-packages/geopandas/io/file.py:362: FutureWarning: pandas.Int64Index is deprecated and will be removed from pandas in a future version. Use pandas.Index with the appropriate dtype instead.\n",
      "  pd.Int64Index,\n",
      "/home/kyang33/.virtualenvs/planet_project/lib/python3.8/site-packages/geopandas/io/file.py:362: FutureWarning: pandas.Int64Index is deprecated and will be removed from pandas in a future version. Use pandas.Index with the appropriate dtype instead.\n",
      "  pd.Int64Index,\n",
      "/home/kyang33/.virtualenvs/planet_project/lib/python3.8/site-packages/geopandas/io/file.py:362: FutureWarning: pandas.Int64Index is deprecated and will be removed from pandas in a future version. Use pandas.Index with the appropriate dtype instead.\n",
      "  pd.Int64Index,\n",
      "/home/kyang33/.virtualenvs/planet_project/lib/python3.8/site-packages/geopandas/io/file.py:362: FutureWarning: pandas.Int64Index is deprecated and will be removed from pandas in a future version. Use pandas.Index with the appropriate dtype instead.\n",
      "  pd.Int64Index,\n",
      "/home/kyang33/.virtualenvs/planet_project/lib/python3.8/site-packages/geopandas/io/file.py:362: FutureWarning: pandas.Int64Index is deprecated and will be removed from pandas in a future version. Use pandas.Index with the appropriate dtype instead.\n",
      "  pd.Int64Index,\n",
      "/home/kyang33/.virtualenvs/planet_project/lib/python3.8/site-packages/geopandas/io/file.py:362: FutureWarning: pandas.Int64Index is deprecated and will be removed from pandas in a future version. Use pandas.Index with the appropriate dtype instead.\n",
      "  pd.Int64Index,\n",
      "/home/kyang33/.virtualenvs/planet_project/lib/python3.8/site-packages/geopandas/io/file.py:362: FutureWarning: pandas.Int64Index is deprecated and will be removed from pandas in a future version. Use pandas.Index with the appropriate dtype instead.\n",
      "  pd.Int64Index,\n",
      "/home/kyang33/.virtualenvs/planet_project/lib/python3.8/site-packages/geopandas/io/file.py:362: FutureWarning: pandas.Int64Index is deprecated and will be removed from pandas in a future version. Use pandas.Index with the appropriate dtype instead.\n",
      "  pd.Int64Index,\n",
      "/home/kyang33/.virtualenvs/planet_project/lib/python3.8/site-packages/geopandas/io/file.py:362: FutureWarning: pandas.Int64Index is deprecated and will be removed from pandas in a future version. Use pandas.Index with the appropriate dtype instead.\n",
      "  pd.Int64Index,\n",
      "/home/kyang33/.virtualenvs/planet_project/lib/python3.8/site-packages/geopandas/io/file.py:362: FutureWarning: pandas.Int64Index is deprecated and will be removed from pandas in a future version. Use pandas.Index with the appropriate dtype instead.\n",
      "  pd.Int64Index,\n",
      "/home/kyang33/.virtualenvs/planet_project/lib/python3.8/site-packages/geopandas/io/file.py:362: FutureWarning: pandas.Int64Index is deprecated and will be removed from pandas in a future version. Use pandas.Index with the appropriate dtype instead.\n",
      "  pd.Int64Index,\n"
     ]
    }
   ],
   "source": [
    "import geopandas as gpd\n",
    "from shapely.geometry import Polygon\n",
    "from shapely.ops import transform\n",
    "import pyproj\n",
    "\n",
    "# Load the WGS84 shapefile\n",
    "shapefile_path = '../../FFLake/Farmponds/data/GIS/Mechums_waterbody_GT1ha.shp'\n",
    "gdf = gpd.read_file(shapefile_path)\n",
    "\n",
    "# Define the buffer distance in meters\n",
    "buffer_distance = 50\n",
    "\n",
    "# Define the target projected CRS (example: UTM Zone 10N)\n",
    "target_crs = 'EPSG:32617'\n",
    "\n",
    "# Reproject the GeoDataFrame to the target CRS\n",
    "gdf_projected = gdf.to_crs(target_crs)\n",
    "\n",
    "# Create a directory to store individual GeoJSON files\n",
    "output_dir = '../../FFLake/Farmponds/data/GIS/single/'\n",
    "os.makedirs(output_dir, exist_ok=True)\n",
    "\n",
    "\n",
    "# Iterate over each polygon in the GeoDataFrame\n",
    "for index, row in gdf_projected.iterrows():\n",
    "    # Buffer the polygon by the specified distance\n",
    "    buffered_polygon = row.geometry.buffer(buffer_distance)\n",
    "\n",
    "    # Compute the minimum enclosing rectangle of the buffered polygon\n",
    "    enclosing_rectangle = buffered_polygon.minimum_rotated_rectangle\n",
    "\n",
    "    # Transform the enclosing rectangle back to the original CRS \n",
    "    transformer = pyproj.Transformer.from_crs(target_crs, gdf_projected.crs, always_xy=True)\n",
    "    enclosing_rectangle_wgs84 = transform(transformer.transform, enclosing_rectangle)\n",
    "\n",
    "    # Create a GeoDataFrame with the enclosing rectangle\n",
    "    rectangle_gdf = gpd.GeoDataFrame(geometry=[enclosing_rectangle_wgs84], crs=gdf_projected.crs)\n",
    "    \n",
    "    #Because Planet image search only support WGS84, we need to reproject the polygon to WGS84\n",
    "    rectangle_gdf_wgs84 = rectangle_gdf.to_crs('EPSG:4326')\n",
    "     # Generate the output file path\n",
    "    output_file = output_dir + 'Lake_OBJID_' + str(row['OBJECTID'])+ '.geojson'\n",
    "  \n",
    "\n",
    "    # Save the GeoDataFrame as a GeoJSON file\n",
    "    rectangle_gdf_wgs84.to_file(output_file, driver='GeoJSON')\n"
   ]
  },
  {
   "cell_type": "code",
   "execution_count": 45,
   "id": "488c492a-9756-4f4b-9052-b3b4359360a8",
   "metadata": {},
   "outputs": [
    {
     "data": {
      "text/plain": [
       "<Derived Projected CRS: EPSG:32617>\n",
       "Name: WGS 84 / UTM zone 17N\n",
       "Axis Info [cartesian]:\n",
       "- E[east]: Easting (metre)\n",
       "- N[north]: Northing (metre)\n",
       "Area of Use:\n",
       "- name: Between 84°W and 78°W, northern hemisphere between equator and 84°N, onshore and offshore. Bahamas. Ecuador - north of equator. Canada - Nunavut; Ontario; Quebec. Cayman Islands. Colombia. Costa Rica. Cuba. Jamaica. Nicaragua. Panama. United States (USA).\n",
       "- bounds: (-84.0, 0.0, -78.0, 84.0)\n",
       "Coordinate Operation:\n",
       "- name: UTM zone 17N\n",
       "- method: Transverse Mercator\n",
       "Datum: World Geodetic System 1984 ensemble\n",
       "- Ellipsoid: WGS 84\n",
       "- Prime Meridian: Greenwich"
      ]
     },
     "execution_count": 45,
     "metadata": {},
     "output_type": "execute_result"
    }
   ],
   "source": [
    "rectangle_gdf.crs"
   ]
  },
  {
   "cell_type": "code",
   "execution_count": 37,
   "id": "b25358b7-a06c-4e07-9c4f-fea66ee6c9f0",
   "metadata": {},
   "outputs": [
    {
     "data": {
      "text/plain": [
       "102333"
      ]
     },
     "execution_count": 37,
     "metadata": {},
     "output_type": "execute_result"
    }
   ],
   "source": []
  }
 ],
 "metadata": {
  "kernelspec": {
   "display_name": "planet_project",
   "language": "python",
   "name": "planet_project"
  },
  "language_info": {
   "codemirror_mode": {
    "name": "ipython",
    "version": 3
   },
   "file_extension": ".py",
   "mimetype": "text/x-python",
   "name": "python",
   "nbconvert_exporter": "python",
   "pygments_lexer": "ipython3",
   "version": "3.8.10"
  }
 },
 "nbformat": 4,
 "nbformat_minor": 5
}
