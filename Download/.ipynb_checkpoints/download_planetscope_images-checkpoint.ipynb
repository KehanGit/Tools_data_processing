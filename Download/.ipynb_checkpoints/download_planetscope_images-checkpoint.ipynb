{
 "cells": [
  {
   "cell_type": "markdown",
   "id": "280a1092-23f1-41f8-b632-442c039d3c2a",
   "metadata": {},
   "source": [
    "### The notebook is used to download planetscope images with custom requiremnets (Kehan Yang, kyang33@uw.edu)"
   ]
  },
  {
   "cell_type": "markdown",
   "id": "cfc708a4-c6d0-4f3c-ab46-0a36ce671419",
   "metadata": {},
   "source": [
    "#### Load packages and set up directories"
   ]
  },
  {
   "cell_type": "code",
   "execution_count": null,
   "id": "b314445e-3631-4ae8-a117-c31c55fbf8d5",
   "metadata": {},
   "outputs": [],
   "source": [
    "import glob\n",
    "from get_planet import *\n",
    "from os.path import exists\n",
    "import os\n",
    "\n",
    "# directory for the geomtry, the format has to be geojson\n",
    "dir_geom = \"/Users/kehanyang/Documents/resarch/pc2_meadows/data/snotel/meadow_selected_extent_geojson_download2/\"\n",
    "# directory where the images will be stored. \n",
    "dir_download = \"/Users/kehanyang/Documents/resarch/pc2_meadows/data/planet/orders/Meadows/\"\n",
    "# dir_meadow_images = \"/Users/kehanyang/Documents/resarch/pc2_meadows/data/planet/orders/Meadows/\"\n",
    "#\n",
    "file_orders_root = \"/Users/kehanyang/Documents/resarch/pc2_meadows/data/planet/orders/Orders_URL_Meadows\"\n",
    "\n",
    "# change the flag if search and/or download data are required.\n",
    "flag_search = False\n",
    "flag_download = True\n",
    "\n",
    "\n",
    "# \n",
    "ID_period = '2017'\n",
    "file_orders = file_orders_root+ID_period+'.txt'"
   ]
  }
 ],
 "metadata": {
  "kernelspec": {
   "display_name": "Python 3 (ipykernel)",
   "language": "python",
   "name": "python3"
  },
  "language_info": {
   "codemirror_mode": {
    "name": "ipython",
    "version": 3
   },
   "file_extension": ".py",
   "mimetype": "text/x-python",
   "name": "python",
   "nbconvert_exporter": "python",
   "pygments_lexer": "ipython3",
   "version": "3.8.10"
  }
 },
 "nbformat": 4,
 "nbformat_minor": 5
}
