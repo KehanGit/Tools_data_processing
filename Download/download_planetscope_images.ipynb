{
 "cells": [
  {
   "cell_type": "markdown",
   "id": "280a1092-23f1-41f8-b632-442c039d3c2a",
   "metadata": {},
   "source": [
    "### The notebook is used to download planetscope images with custom requiremnets (Kehan Yang, kyang33@uw.edu)"
   ]
  },
  {
   "cell_type": "markdown",
   "id": "cfc708a4-c6d0-4f3c-ab46-0a36ce671419",
   "metadata": {},
   "source": [
    "#### Load packages and set up directories"
   ]
  },
  {
   "cell_type": "code",
   "execution_count": 1,
   "id": "b314445e-3631-4ae8-a117-c31c55fbf8d5",
   "metadata": {},
   "outputs": [
    {
     "name": "stderr",
     "output_type": "stream",
     "text": [
      "/home/kyang33/.virtualenvs/planet_project/lib/python3.8/site-packages/planet/api/__init__.py:38: ClientV1DeprecationWarning: The planet.api module is deprecated and will be removed in version 2.0.0. For more details please see the discussion at https://github.com/planetlabs/planet-client-python/discussions.\n",
      "  warnings.warn(\n"
     ]
    },
    {
     "name": "stdout",
     "output_type": "stream",
     "text": [
      "Setup OK: API key valid\n"
     ]
    }
   ],
   "source": [
    "import glob\n",
    "from get_planet import *\n",
    "from os.path import exists\n",
    "import os\n",
    "\n",
    "# directory for the geomtry, the format has to be geojson\n",
    "dir_geom = \"/Users/kehanyang/Documents/resarch/pc2_meadows/data/snotel/meadow_selected_extent_geojson_download2/\"\n",
    "dir_geom = '../../Alaska_project/data/GIS/'\n",
    "# directory where the images will be stored. \n",
    "dir_download = \"/Users/kehanyang/Documents/resarch/pc2_meadows/data/planet/orders/Meadows/\"\n",
    "# dir_meadow_images = \"/Users/kehanyang/Documents/resarch/pc2_meadows/data/planet/orders/Meadows/\"\n",
    "#\n",
    "dir_order_url =  '../../Alaska_project/data/planet/'\n",
    "\n",
    "# change the flag if search and/or download data are required.\n",
    "flag_search = True\n",
    "flag_download = True\n",
    "\n",
    "\n",
    "# \n",
    "ID_period = '2017'\n",
    "#file to store url -- planet data download links\n",
    "file_orders = dir_order_url+ID_period+'.txt'"
   ]
  },
  {
   "cell_type": "code",
   "execution_count": null,
   "id": "d6b0e9b8-8986-4afb-88cc-0a056871a857",
   "metadata": {},
   "outputs": [],
   "source": [
    "# Import the os module in order to access environment variables\n",
    "import os\n",
    "\n",
    "# If you're following along with this notebook, you can enter your API Key on the following line, and uncomment it:\n",
    "#os.environ['PL_API_KEY']='YOUR API KEY HERE'\n",
    "\n",
    "# Setup the API Key from the `PL_API_KEY` environment variable\n",
    "PLANET_API_KEY = os.getenv('PL_API_KEY')"
   ]
  },
  {
   "cell_type": "code",
   "execution_count": 2,
   "id": "7e371d08-7778-41ec-8322-a458a942ab91",
   "metadata": {},
   "outputs": [
    {
     "name": "stdout",
     "output_type": "stream",
     "text": [
      "                                                file  \\\n",
      "0  ../../Alaska_project/data/GIS/Utqiagvik_site_b...   \n",
      "\n",
      "                             index                       ID  \n",
      "0  Utqiagvik_site_boundary.geojson  Utqiagvik_site_boundary  \n",
      "Pandas(Index=0, file='../../Alaska_project/data/GIS/Utqiagvik_site_boundary.geojson', index='Utqiagvik_site_boundary.geojson', ID='Utqiagvik_site_boundary')\n",
      "Utqiagvik_site_boundary_2017\n",
      "Searching available images ------- \n"
     ]
    },
    {
     "ename": "MissingSchema",
     "evalue": "Invalid URL 'None': No scheme supplied. Perhaps you meant https://None?",
     "output_type": "error",
     "traceback": [
      "\u001b[0;31m---------------------------------------------------------------------------\u001b[0m",
      "\u001b[0;31mMissingSchema\u001b[0m                             Traceback (most recent call last)",
      "\u001b[0;32m/tmp/ipykernel_494543/130747401.py\u001b[0m in \u001b[0;36m<cell line: 1>\u001b[0;34m()\u001b[0m\n\u001b[1;32m     41\u001b[0m \u001b[0;34m\u001b[0m\u001b[0m\n\u001b[1;32m     42\u001b[0m             \u001b[0mprint\u001b[0m\u001b[0;34m(\u001b[0m\u001b[0;34m'Searching available images ------- '\u001b[0m\u001b[0;34m)\u001b[0m\u001b[0;34m\u001b[0m\u001b[0;34m\u001b[0m\u001b[0m\n\u001b[0;32m---> 43\u001b[0;31m             idlist = ft_iterate(item_type='PSScene', # planet has changed the product item type from 'PSScene4Band' with PSScene\n\u001b[0m\u001b[1;32m     44\u001b[0m                     \u001b[0masset_type\u001b[0m\u001b[0;34m=\u001b[0m \u001b[0;34m'analytic_sr'\u001b[0m\u001b[0;34m,\u001b[0m\u001b[0;34m\u001b[0m\u001b[0;34m\u001b[0m\u001b[0m\n\u001b[1;32m     45\u001b[0m                     \u001b[0mgeom\u001b[0m \u001b[0;34m=\u001b[0m \u001b[0mread_geom\u001b[0m\u001b[0;34m(\u001b[0m\u001b[0mirow\u001b[0m\u001b[0;34m.\u001b[0m\u001b[0mfile\u001b[0m\u001b[0;34m)\u001b[0m\u001b[0;34m,\u001b[0m\u001b[0;31m#\".json\"),\u001b[0m\u001b[0;34m\u001b[0m\u001b[0;34m\u001b[0m\u001b[0m\n",
      "\u001b[0;32m/data0/kyang33/project/Tools_data_processing/Download/get_planet.py\u001b[0m in \u001b[0;36mft_iterate\u001b[0;34m(item_type, asset_type, geom, start, end, cloud_cover, ovp)\u001b[0m\n\u001b[1;32m    148\u001b[0m         \u001b[0movp\u001b[0m\u001b[0;34m=\u001b[0m\u001b[0;36m0.1\u001b[0m \u001b[0;31m# 10% overlap at least\u001b[0m\u001b[0;34m\u001b[0m\u001b[0;34m\u001b[0m\u001b[0m\n\u001b[1;32m    149\u001b[0m     \u001b[0msearch_json\u001b[0m \u001b[0;34m=\u001b[0m \u001b[0msearch_payload\u001b[0m\u001b[0;34m(\u001b[0m\u001b[0mitem_type\u001b[0m\u001b[0;34m,\u001b[0m\u001b[0masset_type\u001b[0m\u001b[0;34m,\u001b[0m\u001b[0mgeom\u001b[0m\u001b[0;34m,\u001b[0m\u001b[0mstart\u001b[0m\u001b[0;34m,\u001b[0m\u001b[0mend\u001b[0m\u001b[0;34m,\u001b[0m\u001b[0mcloud_cover\u001b[0m\u001b[0;34m)\u001b[0m\u001b[0;34m\u001b[0m\u001b[0;34m\u001b[0m\u001b[0m\n\u001b[0;32m--> 150\u001b[0;31m     all_features = list(\n\u001b[0m\u001b[1;32m    151\u001b[0m         yield_features('https://api.planet.com/data/v1/quick-search',\n\u001b[1;32m    152\u001b[0m                        HTTPBasicAuth(PLANET_API_KEY, ''), search_json))\n",
      "\u001b[0;32m/data0/kyang33/project/Tools_data_processing/Download/get_planet.py\u001b[0m in \u001b[0;36myield_features\u001b[0;34m(url, auth, payload)\u001b[0m\n\u001b[1;32m    131\u001b[0m     \u001b[0;32mwhile\u001b[0m \u001b[0;32mTrue\u001b[0m\u001b[0;34m:\u001b[0m\u001b[0;34m\u001b[0m\u001b[0;34m\u001b[0m\u001b[0m\n\u001b[1;32m    132\u001b[0m         \u001b[0murl\u001b[0m \u001b[0;34m=\u001b[0m \u001b[0mpage\u001b[0m\u001b[0;34m.\u001b[0m\u001b[0mjson\u001b[0m\u001b[0;34m(\u001b[0m\u001b[0;34m)\u001b[0m\u001b[0;34m[\u001b[0m\u001b[0;34m'_links'\u001b[0m\u001b[0;34m]\u001b[0m\u001b[0;34m[\u001b[0m\u001b[0;34m'_next'\u001b[0m\u001b[0;34m]\u001b[0m\u001b[0;34m\u001b[0m\u001b[0;34m\u001b[0m\u001b[0m\n\u001b[0;32m--> 133\u001b[0;31m         \u001b[0mpage\u001b[0m \u001b[0;34m=\u001b[0m \u001b[0mrequests\u001b[0m\u001b[0;34m.\u001b[0m\u001b[0mget\u001b[0m\u001b[0;34m(\u001b[0m\u001b[0murl\u001b[0m\u001b[0;34m,\u001b[0m \u001b[0mauth\u001b[0m\u001b[0;34m=\u001b[0m\u001b[0mauth\u001b[0m\u001b[0;34m)\u001b[0m\u001b[0;34m\u001b[0m\u001b[0;34m\u001b[0m\u001b[0m\n\u001b[0m\u001b[1;32m    134\u001b[0m \u001b[0;34m\u001b[0m\u001b[0m\n\u001b[1;32m    135\u001b[0m         \u001b[0;32mfor\u001b[0m \u001b[0mfeature\u001b[0m \u001b[0;32min\u001b[0m \u001b[0mpage\u001b[0m\u001b[0;34m.\u001b[0m\u001b[0mjson\u001b[0m\u001b[0;34m(\u001b[0m\u001b[0;34m)\u001b[0m\u001b[0;34m[\u001b[0m\u001b[0;34m'features'\u001b[0m\u001b[0;34m]\u001b[0m\u001b[0;34m:\u001b[0m\u001b[0;34m\u001b[0m\u001b[0;34m\u001b[0m\u001b[0m\n",
      "\u001b[0;32m~/.virtualenvs/planet_project/lib/python3.8/site-packages/requests/api.py\u001b[0m in \u001b[0;36mget\u001b[0;34m(url, params, **kwargs)\u001b[0m\n\u001b[1;32m     71\u001b[0m     \"\"\"\n\u001b[1;32m     72\u001b[0m \u001b[0;34m\u001b[0m\u001b[0m\n\u001b[0;32m---> 73\u001b[0;31m     \u001b[0;32mreturn\u001b[0m \u001b[0mrequest\u001b[0m\u001b[0;34m(\u001b[0m\u001b[0;34m\"get\"\u001b[0m\u001b[0;34m,\u001b[0m \u001b[0murl\u001b[0m\u001b[0;34m,\u001b[0m \u001b[0mparams\u001b[0m\u001b[0;34m=\u001b[0m\u001b[0mparams\u001b[0m\u001b[0;34m,\u001b[0m \u001b[0;34m**\u001b[0m\u001b[0mkwargs\u001b[0m\u001b[0;34m)\u001b[0m\u001b[0;34m\u001b[0m\u001b[0;34m\u001b[0m\u001b[0m\n\u001b[0m\u001b[1;32m     74\u001b[0m \u001b[0;34m\u001b[0m\u001b[0m\n\u001b[1;32m     75\u001b[0m \u001b[0;34m\u001b[0m\u001b[0m\n",
      "\u001b[0;32m~/.virtualenvs/planet_project/lib/python3.8/site-packages/requests/api.py\u001b[0m in \u001b[0;36mrequest\u001b[0;34m(method, url, **kwargs)\u001b[0m\n\u001b[1;32m     57\u001b[0m     \u001b[0;31m# cases, and look like a memory leak in others.\u001b[0m\u001b[0;34m\u001b[0m\u001b[0;34m\u001b[0m\u001b[0;34m\u001b[0m\u001b[0m\n\u001b[1;32m     58\u001b[0m     \u001b[0;32mwith\u001b[0m \u001b[0msessions\u001b[0m\u001b[0;34m.\u001b[0m\u001b[0mSession\u001b[0m\u001b[0;34m(\u001b[0m\u001b[0;34m)\u001b[0m \u001b[0;32mas\u001b[0m \u001b[0msession\u001b[0m\u001b[0;34m:\u001b[0m\u001b[0;34m\u001b[0m\u001b[0;34m\u001b[0m\u001b[0m\n\u001b[0;32m---> 59\u001b[0;31m         \u001b[0;32mreturn\u001b[0m \u001b[0msession\u001b[0m\u001b[0;34m.\u001b[0m\u001b[0mrequest\u001b[0m\u001b[0;34m(\u001b[0m\u001b[0mmethod\u001b[0m\u001b[0;34m=\u001b[0m\u001b[0mmethod\u001b[0m\u001b[0;34m,\u001b[0m \u001b[0murl\u001b[0m\u001b[0;34m=\u001b[0m\u001b[0murl\u001b[0m\u001b[0;34m,\u001b[0m \u001b[0;34m**\u001b[0m\u001b[0mkwargs\u001b[0m\u001b[0;34m)\u001b[0m\u001b[0;34m\u001b[0m\u001b[0;34m\u001b[0m\u001b[0m\n\u001b[0m\u001b[1;32m     60\u001b[0m \u001b[0;34m\u001b[0m\u001b[0m\n\u001b[1;32m     61\u001b[0m \u001b[0;34m\u001b[0m\u001b[0m\n",
      "\u001b[0;32m~/.virtualenvs/planet_project/lib/python3.8/site-packages/requests/sessions.py\u001b[0m in \u001b[0;36mrequest\u001b[0;34m(self, method, url, params, data, headers, cookies, files, auth, timeout, allow_redirects, proxies, hooks, stream, verify, cert, json)\u001b[0m\n\u001b[1;32m    571\u001b[0m             \u001b[0mhooks\u001b[0m\u001b[0;34m=\u001b[0m\u001b[0mhooks\u001b[0m\u001b[0;34m,\u001b[0m\u001b[0;34m\u001b[0m\u001b[0;34m\u001b[0m\u001b[0m\n\u001b[1;32m    572\u001b[0m         )\n\u001b[0;32m--> 573\u001b[0;31m         \u001b[0mprep\u001b[0m \u001b[0;34m=\u001b[0m \u001b[0mself\u001b[0m\u001b[0;34m.\u001b[0m\u001b[0mprepare_request\u001b[0m\u001b[0;34m(\u001b[0m\u001b[0mreq\u001b[0m\u001b[0;34m)\u001b[0m\u001b[0;34m\u001b[0m\u001b[0;34m\u001b[0m\u001b[0m\n\u001b[0m\u001b[1;32m    574\u001b[0m \u001b[0;34m\u001b[0m\u001b[0m\n\u001b[1;32m    575\u001b[0m         \u001b[0mproxies\u001b[0m \u001b[0;34m=\u001b[0m \u001b[0mproxies\u001b[0m \u001b[0;32mor\u001b[0m \u001b[0;34m{\u001b[0m\u001b[0;34m}\u001b[0m\u001b[0;34m\u001b[0m\u001b[0;34m\u001b[0m\u001b[0m\n",
      "\u001b[0;32m~/.virtualenvs/planet_project/lib/python3.8/site-packages/requests/sessions.py\u001b[0m in \u001b[0;36mprepare_request\u001b[0;34m(self, request)\u001b[0m\n\u001b[1;32m    482\u001b[0m \u001b[0;34m\u001b[0m\u001b[0m\n\u001b[1;32m    483\u001b[0m         \u001b[0mp\u001b[0m \u001b[0;34m=\u001b[0m \u001b[0mPreparedRequest\u001b[0m\u001b[0;34m(\u001b[0m\u001b[0;34m)\u001b[0m\u001b[0;34m\u001b[0m\u001b[0;34m\u001b[0m\u001b[0m\n\u001b[0;32m--> 484\u001b[0;31m         p.prepare(\n\u001b[0m\u001b[1;32m    485\u001b[0m             \u001b[0mmethod\u001b[0m\u001b[0;34m=\u001b[0m\u001b[0mrequest\u001b[0m\u001b[0;34m.\u001b[0m\u001b[0mmethod\u001b[0m\u001b[0;34m.\u001b[0m\u001b[0mupper\u001b[0m\u001b[0;34m(\u001b[0m\u001b[0;34m)\u001b[0m\u001b[0;34m,\u001b[0m\u001b[0;34m\u001b[0m\u001b[0;34m\u001b[0m\u001b[0m\n\u001b[1;32m    486\u001b[0m             \u001b[0murl\u001b[0m\u001b[0;34m=\u001b[0m\u001b[0mrequest\u001b[0m\u001b[0;34m.\u001b[0m\u001b[0murl\u001b[0m\u001b[0;34m,\u001b[0m\u001b[0;34m\u001b[0m\u001b[0;34m\u001b[0m\u001b[0m\n",
      "\u001b[0;32m~/.virtualenvs/planet_project/lib/python3.8/site-packages/requests/models.py\u001b[0m in \u001b[0;36mprepare\u001b[0;34m(self, method, url, headers, files, data, params, auth, cookies, hooks, json)\u001b[0m\n\u001b[1;32m    366\u001b[0m \u001b[0;34m\u001b[0m\u001b[0m\n\u001b[1;32m    367\u001b[0m         \u001b[0mself\u001b[0m\u001b[0;34m.\u001b[0m\u001b[0mprepare_method\u001b[0m\u001b[0;34m(\u001b[0m\u001b[0mmethod\u001b[0m\u001b[0;34m)\u001b[0m\u001b[0;34m\u001b[0m\u001b[0;34m\u001b[0m\u001b[0m\n\u001b[0;32m--> 368\u001b[0;31m         \u001b[0mself\u001b[0m\u001b[0;34m.\u001b[0m\u001b[0mprepare_url\u001b[0m\u001b[0;34m(\u001b[0m\u001b[0murl\u001b[0m\u001b[0;34m,\u001b[0m \u001b[0mparams\u001b[0m\u001b[0;34m)\u001b[0m\u001b[0;34m\u001b[0m\u001b[0;34m\u001b[0m\u001b[0m\n\u001b[0m\u001b[1;32m    369\u001b[0m         \u001b[0mself\u001b[0m\u001b[0;34m.\u001b[0m\u001b[0mprepare_headers\u001b[0m\u001b[0;34m(\u001b[0m\u001b[0mheaders\u001b[0m\u001b[0;34m)\u001b[0m\u001b[0;34m\u001b[0m\u001b[0;34m\u001b[0m\u001b[0m\n\u001b[1;32m    370\u001b[0m         \u001b[0mself\u001b[0m\u001b[0;34m.\u001b[0m\u001b[0mprepare_cookies\u001b[0m\u001b[0;34m(\u001b[0m\u001b[0mcookies\u001b[0m\u001b[0;34m)\u001b[0m\u001b[0;34m\u001b[0m\u001b[0;34m\u001b[0m\u001b[0m\n",
      "\u001b[0;32m~/.virtualenvs/planet_project/lib/python3.8/site-packages/requests/models.py\u001b[0m in \u001b[0;36mprepare_url\u001b[0;34m(self, url, params)\u001b[0m\n\u001b[1;32m    437\u001b[0m \u001b[0;34m\u001b[0m\u001b[0m\n\u001b[1;32m    438\u001b[0m         \u001b[0;32mif\u001b[0m \u001b[0;32mnot\u001b[0m \u001b[0mscheme\u001b[0m\u001b[0;34m:\u001b[0m\u001b[0;34m\u001b[0m\u001b[0;34m\u001b[0m\u001b[0m\n\u001b[0;32m--> 439\u001b[0;31m             raise MissingSchema(\n\u001b[0m\u001b[1;32m    440\u001b[0m                 \u001b[0;34mf\"Invalid URL {url!r}: No scheme supplied. \"\u001b[0m\u001b[0;34m\u001b[0m\u001b[0;34m\u001b[0m\u001b[0m\n\u001b[1;32m    441\u001b[0m                 \u001b[0;34mf\"Perhaps you meant https://{url}?\"\u001b[0m\u001b[0;34m\u001b[0m\u001b[0;34m\u001b[0m\u001b[0m\n",
      "\u001b[0;31mMissingSchema\u001b[0m: Invalid URL 'None': No scheme supplied. Perhaps you meant https://None?"
     ]
    }
   ],
   "source": [
    "if flag_search:\n",
    "    start_time = ID_period + '-01-01T00:00:00'\n",
    "    # end_time = '2021-12-31T12:00:00'\n",
    "    end_time = ID_period + '-12-31T12:00:00'\n",
    "    overlap = 99 # at least with 99% overlap \n",
    "    cloud_pct = 0.05 # no more than 5% cloud cover\n",
    "     \n",
    "    # no light haze/heavy haze\n",
    "    light_haze = 0\n",
    "    heavy_haze = 0\n",
    "    \n",
    "    #search for geojson file\n",
    "    fn = glob.glob(dir_geom + \"*geojson\")\n",
    "    ID_shp = [id.split(\"/\")[-1] for id in fn]\n",
    "    df = pd.DataFrame(data = {\n",
    "        \"file\": fn, \n",
    "        \"index\":  [i.split(\"/\")[-1] for i in fn],\n",
    "        \"ID\": [id.split(\"/\")[-1].split('.')[0] for id in fn]\n",
    "        })\n",
    "    df = df.sort_values(\"index\", ascending = True)\n",
    "\n",
    "    print(df.head())\n",
    "\n",
    "# check whether the order url txt file is exist. if exist, read data; otherwise, creat file.\n",
    "    idx = 0 \n",
    "    if exists(file_orders):\n",
    "        order_urls = pd.read_csv(file_orders)\n",
    "    else:\n",
    "        order_urls = pd.DataFrame(columns = {\"index\",\"ID_geom\", \"order_url\"})\n",
    "\n",
    "\n",
    "    for irow in df.itertuples():\n",
    "    \n",
    "    # Search id \n",
    "        \n",
    "        print(irow)\n",
    "        ID_geom = irow.ID.split(\".\")[0]+ '_' + ID_period\n",
    "        print(ID_geom)\n",
    "\n",
    "        if ID_geom not in order_urls.ID_geom.to_list():\n",
    "\n",
    "            print('Searching available images ------- ')\n",
    "            idlist = ft_iterate(item_type='PSScene', # planet has changed the product item type from 'PSScene4Band' with PSScene\n",
    "                    asset_type= 'analytic_sr',\n",
    "                    geom = read_geom(irow.file),#\".json\"),\n",
    "                    start = start_time,\n",
    "                    end = end_time,\n",
    "                    cloud_cover = cloud_pct, #cloud cover range 0-1 represting 0-100% so 0.5 means max allowed 50% cloud cover\n",
    "                    ovp = overlap) #% minimum % overlap 0-100\n",
    "            \n",
    "                    # light_haze_percent = light_haze,\n",
    "                    # heavy_haze_percent = heavy_haze\n",
    "\n",
    "            print(idlist.shape)\n",
    "            idlist.sort_values(\"date\")\n",
    "            idlist.to_csv(dir_meadow_images+ID_geom+'.csv')\n",
    "            \n",
    "            # print(irow.file)\n",
    "            payload_info = order_payload(Name_download = ID_geom, ID_imgs = idlist.id.values.tolist(), File_geom = irow.file)\n",
    "            # print(payload_info)\n",
    "            print(\"Pay order:\".format(),ID_geom)\n",
    "\n",
    "\n",
    "            order_url = order_now(payload_info) # error response 400  \n",
    "\n",
    "            order_urls.loc[idx, \"index\"] = idx        \n",
    "            order_urls.loc[idx, \"ID_geom\"] = ID_geom\n",
    "            order_urls.loc[idx, \"order_url\"] = order_url\n",
    "\n",
    "\n",
    "            # order_urls.append(order_url)  # save all URLs\n",
    "            order_urls.to_csv(file_orders, index = None)# save all URLs\n",
    "\n",
    "            \n",
    "        idx = idx + 1\n",
    "\n"
   ]
  },
  {
   "cell_type": "code",
   "execution_count": 4,
   "id": "66a8ca73-05d7-49ba-92ca-4491dc9673fe",
   "metadata": {},
   "outputs": [],
   "source": [
    "from planet import api\n",
    "client = api.ClientV1()\n"
   ]
  },
  {
   "cell_type": "code",
   "execution_count": 34,
   "id": "dee85a16-a754-400f-8542-0b1d1b72366f",
   "metadata": {},
   "outputs": [
    {
     "ename": "TypeError",
     "evalue": "range_filter() missing 1 required positional argument: 'field_name'",
     "output_type": "error",
     "traceback": [
      "\u001b[0;31m---------------------------------------------------------------------------\u001b[0m",
      "\u001b[0;31mTypeError\u001b[0m                                 Traceback (most recent call last)",
      "\u001b[0;32m/tmp/ipykernel_486147/1471820409.py\u001b[0m in \u001b[0;36m<cell line: 1>\u001b[0;34m()\u001b[0m\n\u001b[0;32m----> 1\u001b[0;31m idlist = api.filters.range_filter(item_type='PSScene', # planet has changed the product item type from 'PSScene4Band' with PSScene\n\u001b[0m\u001b[1;32m      2\u001b[0m                    \u001b[0masset_type\u001b[0m\u001b[0;34m=\u001b[0m \u001b[0;34m'analytic_sr'\u001b[0m\u001b[0;34m,\u001b[0m\u001b[0;34m\u001b[0m\u001b[0;34m\u001b[0m\u001b[0m\n\u001b[1;32m      3\u001b[0m                    \u001b[0mgeom\u001b[0m \u001b[0;34m=\u001b[0m \u001b[0mread_geom\u001b[0m\u001b[0;34m(\u001b[0m\u001b[0mirow\u001b[0m\u001b[0;34m.\u001b[0m\u001b[0mfile\u001b[0m\u001b[0;34m)\u001b[0m\u001b[0;34m,\u001b[0m\u001b[0;31m#\".json\"),\u001b[0m\u001b[0;34m\u001b[0m\u001b[0;34m\u001b[0m\u001b[0m\n\u001b[1;32m      4\u001b[0m                    \u001b[0mstart\u001b[0m \u001b[0;34m=\u001b[0m \u001b[0mstart_time\u001b[0m\u001b[0;34m,\u001b[0m\u001b[0;34m\u001b[0m\u001b[0;34m\u001b[0m\u001b[0m\n\u001b[1;32m      5\u001b[0m                    \u001b[0mend\u001b[0m \u001b[0;34m=\u001b[0m \u001b[0mend_time\u001b[0m\u001b[0;34m,\u001b[0m\u001b[0;34m\u001b[0m\u001b[0;34m\u001b[0m\u001b[0m\n",
      "\u001b[0;31mTypeError\u001b[0m: range_filter() missing 1 required positional argument: 'field_name'"
     ]
    }
   ],
   "source": [
    " idlist = api.filters.range_filter(item_type='PSScene', # planet has changed the product item type from 'PSScene4Band' with PSScene\n",
    "                    asset_type= 'analytic_sr',\n",
    "                    geom = read_geom(irow.file),#\".json\"),\n",
    "                    start = start_time,\n",
    "                    end = end_time,\n",
    "                    cloud_cover = cloud_pct, #cloud cover range 0-1 represting 0-100% so 0.5 means max allowed 50% cloud cover\n",
    "                    ovp = overlap,\n",
    "                    light_haze_percent = light_haze,\n",
    "                    heavy_haze_percent = heavy_haze) #% minimum % overlap 0-100"
   ]
  },
  {
   "cell_type": "code",
   "execution_count": 5,
   "id": "b08d40ec-48f7-460a-84c9-57c314b7da79",
   "metadata": {},
   "outputs": [
    {
     "name": "stdout",
     "output_type": "stream",
     "text": [
      "{'field_name': 'clear_percent', 'type': 'RangeFilter', 'config': {'gte': 90}}\n"
     ]
    }
   ],
   "source": [
    "# build a filter for the AOI\n",
    "filter = api.filters.range_filter(\"clear_percent\", gte=90)\n",
    "\n",
    "# show the structure of the filter\n",
    "print(filter)"
   ]
  },
  {
   "cell_type": "code",
   "execution_count": 13,
   "id": "4ef543b1-2ee0-48fe-a0b6-41b68058ba38",
   "metadata": {},
   "outputs": [
    {
     "data": {
      "text/plain": [
       "<function planet.api.filters.build_search_request(filter_like, item_types, name=None, interval=None)>"
      ]
     },
     "execution_count": 13,
     "metadata": {},
     "output_type": "execute_result"
    }
   ],
   "source": [
    "api.filters.build_search_request"
   ]
  },
  {
   "cell_type": "code",
   "execution_count": 6,
   "id": "32b4eaa2-1410-4321-8191-9ea92ccf0841",
   "metadata": {},
   "outputs": [],
   "source": [
    "# we are requesting PlanetScope 4 Band imagery\n",
    "item_types = ['PSScene']\n",
    "request = api.filters.build_search_request(filter, item_types)\n",
    "\n",
    "# this will cause an exception if there are any API related errors\n",
    "results = client.quick_search(request)"
   ]
  },
  {
   "cell_type": "code",
   "execution_count": 7,
   "id": "c79c8bd9-fee3-4dde-8614-56ac5c5d9c4d",
   "metadata": {},
   "outputs": [
    {
     "data": {
      "text/plain": [
       "<planet.api.models.Items at 0x7f2620168ca0>"
      ]
     },
     "execution_count": 7,
     "metadata": {},
     "output_type": "execute_result"
    }
   ],
   "source": [
    "results"
   ]
  },
  {
   "cell_type": "code",
   "execution_count": 8,
   "id": "3feb5a33-4c49-401d-a8f8-78df50ff5c7d",
   "metadata": {},
   "outputs": [
    {
     "name": "stdout",
     "output_type": "stream",
     "text": [
      "20230505_054622_62_2402\n",
      "20230505_054618_56_2402\n",
      "20200423_073226_09_2275\n",
      "20230505_080533_83_2439\n",
      "20230505_080506_45_2439\n",
      "20230505_071439_35_248e\n",
      "20230505_103112_35_247a\n",
      "20230505_102555_40_247a\n",
      "20230505_080538_04_2439\n",
      "20230505_080508_56_2439\n"
     ]
    }
   ],
   "source": [
    "# print out the ID of the most recent 10 images that matched\n",
    "for item in results.items_iter(10):\n",
    "    print('%s' % item['id'])"
   ]
  }
 ],
 "metadata": {
  "kernelspec": {
   "display_name": "planet_project",
   "language": "python",
   "name": "planet_project"
  },
  "language_info": {
   "codemirror_mode": {
    "name": "ipython",
    "version": 3
   },
   "file_extension": ".py",
   "mimetype": "text/x-python",
   "name": "python",
   "nbconvert_exporter": "python",
   "pygments_lexer": "ipython3",
   "version": "3.8.10"
  }
 },
 "nbformat": 4,
 "nbformat_minor": 5
}
