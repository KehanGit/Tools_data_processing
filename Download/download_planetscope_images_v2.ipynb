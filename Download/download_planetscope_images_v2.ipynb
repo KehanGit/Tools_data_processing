{
 "cells": [
  {
   "cell_type": "markdown",
   "id": "78d475f9-ece0-4511-a280-9d5584a97363",
   "metadata": {},
   "source": [
    "### The script is used to download planetscope images\n",
    "\n",
    "* Planet has updated their SDK to version 2 in May 2023. The original code used to download planetscope images is not working. Below is a modified version (Kehan Yang, 2023-05-26)"
   ]
  },
  {
   "cell_type": "code",
   "execution_count": 2,
   "id": "560a66c7-5538-450c-bda9-75334caad3ca",
   "metadata": {},
   "outputs": [
    {
     "ename": "NameError",
     "evalue": "name 'order' is not defined",
     "output_type": "error",
     "traceback": [
      "\u001b[0;31m---------------------------------------------------------------------------\u001b[0m",
      "\u001b[0;31mNameError\u001b[0m                                 Traceback (most recent call last)",
      "\u001b[0;32m/tmp/ipykernel_840655/759136976.py\u001b[0m in \u001b[0;36m<cell line: 3>\u001b[0;34m()\u001b[0m\n\u001b[1;32m      3\u001b[0m \u001b[0;32masync\u001b[0m \u001b[0;32mwith\u001b[0m \u001b[0mSession\u001b[0m\u001b[0;34m(\u001b[0m\u001b[0;34m)\u001b[0m \u001b[0;32mas\u001b[0m \u001b[0msession\u001b[0m\u001b[0;34m:\u001b[0m\u001b[0;34m\u001b[0m\u001b[0;34m\u001b[0m\u001b[0m\n\u001b[1;32m      4\u001b[0m     \u001b[0mclient\u001b[0m \u001b[0;34m=\u001b[0m \u001b[0mOrdersClient\u001b[0m\u001b[0;34m(\u001b[0m\u001b[0msession\u001b[0m\u001b[0;34m)\u001b[0m\u001b[0;34m\u001b[0m\u001b[0;34m\u001b[0m\u001b[0m\n\u001b[0;32m----> 5\u001b[0;31m     \u001b[0mresult\u001b[0m \u001b[0;34m=\u001b[0m \u001b[0;32mawait\u001b[0m \u001b[0mclient\u001b[0m\u001b[0;34m.\u001b[0m\u001b[0mcreate_order\u001b[0m\u001b[0;34m(\u001b[0m\u001b[0morder\u001b[0m\u001b[0;34m)\u001b[0m\u001b[0;34m\u001b[0m\u001b[0;34m\u001b[0m\u001b[0m\n\u001b[0m\u001b[1;32m      6\u001b[0m \u001b[0;31m# Process result\u001b[0m\u001b[0;34m\u001b[0m\u001b[0;34m\u001b[0m\u001b[0;34m\u001b[0m\u001b[0m\n",
      "\u001b[0;31mNameError\u001b[0m: name 'order' is not defined"
     ]
    }
   ],
   "source": [
    "from planet import OrdersClient, Session\n",
    "\n",
    "async with Session() as session:\n",
    "    client = OrdersClient(session)\n",
    "    result = await client.create_order(order)\n",
    "# Process result\n"
   ]
  },
  {
   "cell_type": "markdown",
   "id": "fee70711-b798-431b-9564-3085f382634b",
   "metadata": {},
   "source": [
    "### Authenticate with Planet Services\n",
    "\n",
    "The SDK provides the auth.Auth class for managing authentication information. This module can be used to obtain authentication information from the username and password with Auth.from_login(). Additionally, it can be created with the API key obtained directly from the Planet account site with Auth.from_key(<API_KEY>).\n",
    "\n",
    "Once you have provided the authentication information (in other words, the username and API key), it can be accessed by way of the Auth.value. The most convenient way of managing it for local use is to write it to a secret file using Auth.write(). For example, to obtain and store authentication information:\n",
    "\n",
    "Once you have provided the authentication information (in other words, the account username and password), it can be accessed by way of Auth.value. The most convenient way of managing it for local use is to write it to a secret file using Auth.write(). It can also be accessed, for example, to store in an environment variable, such as Auth.value.\n",
    "\n",
    "Here is an example of retrieving and storing authentication information:"
   ]
  },
  {
   "cell_type": "code",
   "execution_count": null,
   "id": "53b1a36f-f616-40b8-9da7-97a04b08f1a8",
   "metadata": {},
   "outputs": [],
   "source": [
    "# Get the user account name and password\n",
    "# from the command line and environment,\n",
    "# and store credentials in an Auth object\n",
    "import getpass\n",
    "from planet import Auth\n",
    "\n",
    "user = input(\"Username: \")\n",
    "pw = getpass.getpass()\n",
    "auth = Auth.from_login(user,pw)\n",
    "auth.store() \n"
   ]
  },
  {
   "cell_type": "markdown",
   "id": "be2a5214-b8ff-4356-a92d-def819d59f57",
   "metadata": {},
   "source": [
    "### Create an order request¶\n",
    "\n",
    "As a first step in ordering, you create an order request object. This request object is transmitted to the Planet service as a JSON object. The SDK provides a way for you to build up that object: planet.order_request.build_request(). The following code returns an order request object, with the values you’ve provided for:\n",
    "\n",
    "* a name for your order\n",
    "* what product to order—in this example, PSScene items with analytic_udm2 product bundle asset types\n",
    "* what tools to use—here, the clip tool with the area of interest (AOI) to clip within"
   ]
  },
  {
   "cell_type": "code",
   "execution_count": 9,
   "id": "dbb53b29-ab4e-450a-8499-b8a918cbb985",
   "metadata": {},
   "outputs": [],
   "source": [
    "def create_request():\n",
    "    # This is your area of interest for the Orders clipping tool\n",
    "    oregon_aoi = {\n",
    "       \"type\":\n",
    "       \"Polygon\",\n",
    "       \"coordinates\": [[[-117.558734, 45.229745], [-117.452447, 45.229745],\n",
    "                        [-117.452447, 45.301865], [-117.558734, 45.301865],\n",
    "                        [-117.558734, 45.229745]]]\n",
    "   }\n",
    "\n",
    "   # In practice, you will use a Data API search to find items, but\n",
    "   # for this example take them as given.\n",
    "    oregon_items = ['20200909_182525_1014', '20200909_182524_1014']\n",
    "    oregon_order = planet.order_request.build_request(\n",
    "       name='oregon_order',\n",
    "       products=[\n",
    "           planet.order_request.product(item_ids=oregon_items,\n",
    "                                        product_bundle='analytic_udm2',\n",
    "                                        item_type='PSScene')\n",
    "       ],\n",
    "       tools=[planet.order_request.clip_tool(aoi=oregon_aoi)])\n",
    "    \n",
    "    return oregon_order\n"
   ]
  },
  {
   "cell_type": "markdown",
   "id": "57747443-ec4e-4bcf-90ad-6da3ee926f95",
   "metadata": {},
   "source": [
    "Once the order request is built, create an order within the context of a Session with the OrdersClient create_order() function and pass the order request object in:"
   ]
  },
  {
   "cell_type": "code",
   "execution_count": 10,
   "id": "399403e7-a729-46fd-8d0d-1fbcf2600b2e",
   "metadata": {},
   "outputs": [],
   "source": [
    "async def main():\n",
    "    # Create a session and client\n",
    "    # The Orders API client is also a subclass of the Session\n",
    "    # class, so it has all the same methods.\n",
    "    async with planet.Session() as sess:\n",
    "\n",
    "        # 'orders' is the service name for the Orders API.\n",
    "        cl = sess.client('orders')\n",
    "\n",
    "        request = create_request()\n",
    "        \n",
    "        order = await cl.create_order(request)\n"
   ]
  },
  {
   "cell_type": "markdown",
   "id": "d1ff4094-2ccc-4f1c-ba92-206de41eae0f",
   "metadata": {},
   "source": [
    "### Waiting and downloading an order¶\n",
    "\n",
    "After creating an order client, there is typically a waiting period before the assets can be downloaded. During this time, the order is being processed and customized according to the specifications provided in the order request. To monitor the progress of the order creation process and determine when the assets are ready for download, you can use the wait method provided by the Orders API client.\n",
    "\n",
    "With wait and download, it is often desired to track progress as these processes can take a long time. To track the progress of the order, the following example code uses a progress bar from the reporting module to report the wait status. The download_order method has built-in reporting capabilities, so we don’t need to use a progress bar for the download process.\n",
    "\n",
    "\n"
   ]
  },
  {
   "cell_type": "code",
   "execution_count": 11,
   "id": "761f879c-0254-4b8b-8f33-4a50468e2800",
   "metadata": {},
   "outputs": [
    {
     "ename": "NameError",
     "evalue": "name 'create_poll_and_download' is not defined",
     "output_type": "error",
     "traceback": [
      "\u001b[0;31m---------------------------------------------------------------------------\u001b[0m",
      "\u001b[0;31mNameError\u001b[0m                                 Traceback (most recent call last)",
      "\u001b[0;32m/tmp/ipykernel_840655/2042701437.py\u001b[0m in \u001b[0;36m<cell line: 17>\u001b[0;34m()\u001b[0m\n\u001b[1;32m     15\u001b[0m         \u001b[0;32mawait\u001b[0m \u001b[0mcl\u001b[0m\u001b[0;34m.\u001b[0m\u001b[0mdownload_order\u001b[0m\u001b[0;34m(\u001b[0m\u001b[0morder\u001b[0m\u001b[0;34m[\u001b[0m\u001b[0;34m'id'\u001b[0m\u001b[0;34m]\u001b[0m\u001b[0;34m)\u001b[0m\u001b[0;34m\u001b[0m\u001b[0;34m\u001b[0m\u001b[0m\n\u001b[1;32m     16\u001b[0m \u001b[0;34m\u001b[0m\u001b[0m\n\u001b[0;32m---> 17\u001b[0;31m \u001b[0masyncio\u001b[0m\u001b[0;34m.\u001b[0m\u001b[0mrun\u001b[0m\u001b[0;34m(\u001b[0m\u001b[0mcreate_poll_and_download\u001b[0m\u001b[0;34m(\u001b[0m\u001b[0;34m)\u001b[0m\u001b[0;34m)\u001b[0m\u001b[0;34m\u001b[0m\u001b[0;34m\u001b[0m\u001b[0m\n\u001b[0m",
      "\u001b[0;31mNameError\u001b[0m: name 'create_poll_and_download' is not defined"
     ]
    }
   ],
   "source": [
    "from planet import reporting\n",
    "\n",
    "async def create_wait_and_download():\n",
    "    async with Session() as sess:\n",
    "        cl = sess.client('orders')\n",
    "        with reporting.StateBar(state='creating') as bar:\n",
    "            # create order\n",
    "            order = await cl.create_order(request)\n",
    "            bar.update(state='created', order_id=order['id'])\n",
    "\n",
    "            # poll\n",
    "            await cl.wait(order['id'], callback=bar.update_state)\n",
    "\n",
    "        # download\n",
    "        await cl.download_order(order['id'])\n",
    "\n",
    "asyncio.run(create_poll_and_download())\n"
   ]
  },
  {
   "cell_type": "code",
   "execution_count": null,
   "id": "abb9f5ac-fc86-46df-8896-d6868aff202d",
   "metadata": {},
   "outputs": [],
   "source": [
    "from datetime import datetime\n",
    "from planet import data_filter\n",
    "sfilter = data_filter.and_filter([\n",
    "    data_filter.permission_filter(),\n",
    "    data_filter.date_range_filter('acquired', gte=datetime(2022, 6, 1), lte = datetime(2022, 6, 3)),\n",
    "    data_filter.\n",
    "])\n",
    "\n",
    "\n",
    "\n",
    "async def create_and_download(client, order_detail, directory):\n",
    "    with planet.reporting.StateBar(state='creating') as reporter:\n",
    "        order = await client.create_order(order_detail)\n",
    "        reporter.update(state='created', order_id=order['id'])\n",
    "        await client.wait(order['id'], callback=reporter.update_state)\n",
    "\n",
    "    await client.download_order(order['id'], directory, progress_bar=True)\n",
    "\n",
    "async def main():\n",
    "    async with planet.Session() as sess:\n",
    "        cl = sess.client('orders')\n",
    "        items = [i async for i in cl.search(['PSScene'], sfilter)]\n",
    "\n",
    "        # Create the order request\n",
    "        request = create_request()\n",
    "\n",
    "        # Create and download the order\n",
    "        order = await create_and_download(cl, request, DOWNLOAD_DIR)\n"
   ]
  },
  {
   "cell_type": "markdown",
   "id": "f1c4bfaa-a016-4b16-967c-caef5a75e98e",
   "metadata": {},
   "source": [
    "### Validating checksums¶\n",
    "\n",
    "Checksum validation provides for verification that the files in an order have been downloaded successfully and are not missing, corrupted, or changed. This functionality is included in the OrderClient, but does not require an instance of the class to be used.\n",
    "\n",
    "To perform checksum validation:"
   ]
  },
  {
   "cell_type": "code",
   "execution_count": null,
   "id": "81e67b98-a7b8-4b9a-8805-198900bff148",
   "metadata": {},
   "outputs": [],
   "source": [
    "from pathlib import Path\n",
    "\n",
    "# path includes order id\n",
    "order_path = Path('193e5bd1-dedc-4c65-a539-6bc70e55d928')\n",
    "OrdersClient.validate_checksum(order_path, 'md5')\n"
   ]
  },
  {
   "cell_type": "code",
   "execution_count": 12,
   "id": "75dff7e2-c76a-447a-a132-c5b4b33fc254",
   "metadata": {},
   "outputs": [],
   "source": [
    "import os\n",
    "\n",
    "# if your Planet API Key is not set as an environment variable, you can paste it below\n",
    "if os.environ.get('PL_API_KEY', ''):\n",
    "    API_KEY = os.environ.get('PL_API_KEY', '')\n",
    "else:\n",
    "    API_KEY = 'PASTE_YOUR_API_KEY_HERE'"
   ]
  },
  {
   "cell_type": "code",
   "execution_count": 13,
   "id": "c245601e-3351-447c-abf9-a55af69d2b36",
   "metadata": {},
   "outputs": [],
   "source": [
    "# Stockton, CA bounding box (created via geojson.io) \n",
    "geojson_geometry = {\n",
    "  \"type\": \"Polygon\",\n",
    "  \"coordinates\": [\n",
    "    [ \n",
    "      [-121.59290313720705, 37.93444993515032],\n",
    "      [-121.27017974853516, 37.93444993515032],\n",
    "      [-121.27017974853516, 38.065932950547484],\n",
    "      [-121.59290313720705, 38.065932950547484],\n",
    "      [-121.59290313720705, 37.93444993515032]\n",
    "    ]\n",
    "  ]\n",
    "}\n"
   ]
  },
  {
   "cell_type": "code",
   "execution_count": 14,
   "id": "b4a3728f-1d2f-4c19-a9b4-372118441ff4",
   "metadata": {},
   "outputs": [],
   "source": [
    "# get images that overlap with our AOI \n",
    "geometry_filter = {\n",
    "  \"type\": \"GeometryFilter\",\n",
    "  \"field_name\": \"geometry\",\n",
    "  \"config\": geojson_geometry\n",
    "}\n",
    "\n",
    "# get images acquired within a date range\n",
    "date_range_filter = {\n",
    "  \"type\": \"DateRangeFilter\",\n",
    "  \"field_name\": \"acquired\",\n",
    "  \"config\": {\n",
    "    \"gte\": \"2016-08-31T00:00:00.000Z\",\n",
    "    \"lte\": \"2016-09-01T00:00:00.000Z\"\n",
    "  }\n",
    "}\n",
    "\n",
    "# only get images which have <50% cloud coverage\n",
    "cloud_cover_filter = {\n",
    "  \"type\": \"RangeFilter\",\n",
    "  \"field_name\": \"cloud_cover\",\n",
    "  \"config\": {\n",
    "    \"lte\": 0.5\n",
    "  }\n",
    "}\n",
    "\n",
    "# combine our geo, date, cloud filters\n",
    "combined_filter = {\n",
    "  \"type\": \"AndFilter\",\n",
    "  \"config\": [geometry_filter, date_range_filter, cloud_cover_filter]\n",
    "}"
   ]
  },
  {
   "cell_type": "code",
   "execution_count": 17,
   "id": "de82444d-8011-439e-90e5-2719dbc4aa6e",
   "metadata": {},
   "outputs": [
    {
     "name": "stdout",
     "output_type": "stream",
     "text": [
      "[('message', 'Please enter a valid API key.'), ('errors', [])]\n"
     ]
    }
   ],
   "source": [
    "import json\n",
    "import requests\n",
    "from requests.auth import HTTPBasicAuth\n",
    "\n",
    "item_type = \"PSScene\"\n",
    "\n",
    "# API request object\n",
    "search_request = {\n",
    "  \"item_types\": [item_type], \n",
    "  \"filter\": combined_filter\n",
    "}\n",
    "\n",
    "# fire off the POST request\n",
    "search_result = \\\n",
    "  requests.post(\n",
    "    'https://api.planet.com/data/v1/quick-search',\n",
    "    auth=HTTPBasicAuth(API_KEY, ''),\n",
    "    json=search_request)\n",
    "\n",
    "geojson = search_result.json()\n",
    "\n",
    "# let's look at the first result\n",
    "print(list(geojson.items()))"
   ]
  }
 ],
 "metadata": {
  "kernelspec": {
   "display_name": "planet_project",
   "language": "python",
   "name": "planet_project"
  },
  "language_info": {
   "codemirror_mode": {
    "name": "ipython",
    "version": 3
   },
   "file_extension": ".py",
   "mimetype": "text/x-python",
   "name": "python",
   "nbconvert_exporter": "python",
   "pygments_lexer": "ipython3",
   "version": "3.8.10"
  }
 },
 "nbformat": 4,
 "nbformat_minor": 5
}
